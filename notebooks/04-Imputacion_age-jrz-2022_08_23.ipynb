{
 "cells": [
  {
   "cell_type": "markdown",
   "metadata": {
    "collapsed": true,
    "pycharm": {
     "name": "#%% md\n"
    }
   },
   "source": [
    "## Imputacion de la variable age\n",
    "\n",
    "### Por:\n",
    "Jose Ricardo Zapata\n",
    "\n",
    "### Fecha:\n",
    "2022-08-23\n",
    "\n",
    "### Descripción:\n",
    "\n",
    "Realizar la imputacion de la variable age\n"
   ]
  },
  {
   "cell_type": "markdown",
   "metadata": {
    "collapsed": false,
    "pycharm": {
     "name": "#%% md\n"
    }
   },
   "source": [
    "## Importar librerias"
   ]
  },
  {
   "cell_type": "code",
   "execution_count": 18,
   "metadata": {
    "collapsed": false,
    "pycharm": {
     "name": "#%%\n"
    }
   },
   "outputs": [],
   "source": [
    "import pandas as pd\n",
    "import seaborn as sns\n",
    "import numpy as np"
   ]
  },
  {
   "cell_type": "markdown",
   "metadata": {
    "collapsed": false,
    "pycharm": {
     "name": "#%% md\n"
    }
   },
   "source": [
    "## Cargar Datos"
   ]
  },
  {
   "cell_type": "code",
   "execution_count": 3,
   "metadata": {
    "collapsed": false,
    "pycharm": {
     "name": "#%%\n"
    }
   },
   "outputs": [
    {
     "data": {
      "text/html": [
       "<pre style=\"white-space:pre;overflow-x:auto;line-height:normal;font-family:Menlo,'DejaVu Sans Mono',consolas,'Courier New',monospace\"><span style=\"color: #7fbfbf; text-decoration-color: #7fbfbf\">[08/23/22 17:20:26] </span><span style=\"color: #000080; text-decoration-color: #000080\">INFO    </span> Loading data from <span style=\"color: #008000; text-decoration-color: #008000\">'Data_train'</span> <span style=\"font-weight: bold\">(</span>CSVDataSet<span style=\"font-weight: bold\">)</span><span style=\"color: #808000; text-decoration-color: #808000\">...</span>                     <a href=\"file:///Users/jzapata/opt/anaconda3/envs/titanic-kedro/lib/python3.9/site-packages/kedro/io/data_catalog.py\" target=\"_blank\"><span style=\"color: #7f7f7f; text-decoration-color: #7f7f7f\">data_catalog.py</span></a><span style=\"color: #7f7f7f; text-decoration-color: #7f7f7f\">:</span><a href=\"file:///Users/jzapata/opt/anaconda3/envs/titanic-kedro/lib/python3.9/site-packages/kedro/io/data_catalog.py#343\" target=\"_blank\"><span style=\"color: #7f7f7f; text-decoration-color: #7f7f7f\">343</span></a>\n",
       "</pre>\n"
      ],
      "text/plain": [
       "\u001B[2;36m[08/23/22 17:20:26]\u001B[0m\u001B[2;36m \u001B[0m\u001B[34mINFO    \u001B[0m Loading data from \u001B[32m'Data_train'\u001B[0m \u001B[1m(\u001B[0mCSVDataSet\u001B[1m)\u001B[0m\u001B[33m...\u001B[0m                     \u001B]8;id=121495;file:///Users/jzapata/opt/anaconda3/envs/titanic-kedro/lib/python3.9/site-packages/kedro/io/data_catalog.py\u001B\\\u001B[2mdata_catalog.py\u001B[0m\u001B]8;;\u001B\\\u001B[2m:\u001B[0m\u001B]8;id=271061;file:///Users/jzapata/opt/anaconda3/envs/titanic-kedro/lib/python3.9/site-packages/kedro/io/data_catalog.py#343\u001B\\\u001B[2m343\u001B[0m\u001B]8;;\u001B\\\n"
      ]
     },
     "metadata": {},
     "output_type": "display_data"
    },
    {
     "name": "stdout",
     "output_type": "stream",
     "text": [
      "<class 'pandas.core.frame.DataFrame'>\n",
      "RangeIndex: 1048 entries, 0 to 1047\n",
      "Data columns (total 14 columns):\n",
      " #   Column     Non-Null Count  Dtype  \n",
      "---  ------     --------------  -----  \n",
      " 0   pclass     1047 non-null   float64\n",
      " 1   survived   1047 non-null   float64\n",
      " 2   name       1047 non-null   object \n",
      " 3   sex        1047 non-null   object \n",
      " 4   age        836 non-null    float64\n",
      " 5   sibsp      1047 non-null   float64\n",
      " 6   parch      1047 non-null   float64\n",
      " 7   ticket     1047 non-null   object \n",
      " 8   fare       1046 non-null   float64\n",
      " 9   cabin      236 non-null    object \n",
      " 10  embarked   1045 non-null   object \n",
      " 11  boat       384 non-null    object \n",
      " 12  body       101 non-null    float64\n",
      " 13  home.dest  601 non-null    object \n",
      "dtypes: float64(7), object(7)\n",
      "memory usage: 114.8+ KB\n"
     ]
    }
   ],
   "source": [
    "data_train = catalog.load('Data_train')\n",
    "data_train.info()"
   ]
  },
  {
   "cell_type": "code",
   "execution_count": 5,
   "metadata": {
    "pycharm": {
     "name": "#%%\n"
    }
   },
   "outputs": [
    {
     "data": {
      "text/html": [
       "<div>\n",
       "<style scoped>\n",
       "    .dataframe tbody tr th:only-of-type {\n",
       "        vertical-align: middle;\n",
       "    }\n",
       "\n",
       "    .dataframe tbody tr th {\n",
       "        vertical-align: top;\n",
       "    }\n",
       "\n",
       "    .dataframe thead th {\n",
       "        text-align: right;\n",
       "    }\n",
       "</style>\n",
       "<table border=\"1\" class=\"dataframe\">\n",
       "  <thead>\n",
       "    <tr style=\"text-align: right;\">\n",
       "      <th></th>\n",
       "      <th>pclass</th>\n",
       "      <th>survived</th>\n",
       "      <th>name</th>\n",
       "      <th>sex</th>\n",
       "      <th>age</th>\n",
       "      <th>sibsp</th>\n",
       "      <th>parch</th>\n",
       "      <th>ticket</th>\n",
       "      <th>fare</th>\n",
       "      <th>cabin</th>\n",
       "      <th>embarked</th>\n",
       "      <th>boat</th>\n",
       "      <th>body</th>\n",
       "      <th>home.dest</th>\n",
       "    </tr>\n",
       "  </thead>\n",
       "  <tbody>\n",
       "    <tr>\n",
       "      <th>95</th>\n",
       "      <td>3.0</td>\n",
       "      <td>0.0</td>\n",
       "      <td>Olsson, Mr. Nils Johan Goransson</td>\n",
       "      <td>male</td>\n",
       "      <td>28.0</td>\n",
       "      <td>0.0</td>\n",
       "      <td>0.0</td>\n",
       "      <td>347464</td>\n",
       "      <td>7.8542</td>\n",
       "      <td>NaN</td>\n",
       "      <td>S</td>\n",
       "      <td>NaN</td>\n",
       "      <td>NaN</td>\n",
       "      <td>NaN</td>\n",
       "    </tr>\n",
       "    <tr>\n",
       "      <th>148</th>\n",
       "      <td>2.0</td>\n",
       "      <td>0.0</td>\n",
       "      <td>Lamb, Mr. John Joseph</td>\n",
       "      <td>male</td>\n",
       "      <td>NaN</td>\n",
       "      <td>0.0</td>\n",
       "      <td>0.0</td>\n",
       "      <td>240261</td>\n",
       "      <td>10.7083</td>\n",
       "      <td>NaN</td>\n",
       "      <td>Q</td>\n",
       "      <td>NaN</td>\n",
       "      <td>NaN</td>\n",
       "      <td>NaN</td>\n",
       "    </tr>\n",
       "    <tr>\n",
       "      <th>616</th>\n",
       "      <td>1.0</td>\n",
       "      <td>1.0</td>\n",
       "      <td>Futrelle, Mrs. Jacques Heath (Lily May Peel)</td>\n",
       "      <td>female</td>\n",
       "      <td>35.0</td>\n",
       "      <td>1.0</td>\n",
       "      <td>0.0</td>\n",
       "      <td>113803</td>\n",
       "      <td>53.1000</td>\n",
       "      <td>C123</td>\n",
       "      <td>S</td>\n",
       "      <td>D</td>\n",
       "      <td>NaN</td>\n",
       "      <td>Scituate, MA</td>\n",
       "    </tr>\n",
       "    <tr>\n",
       "      <th>478</th>\n",
       "      <td>2.0</td>\n",
       "      <td>1.0</td>\n",
       "      <td>Caldwell, Mr. Albert Francis</td>\n",
       "      <td>male</td>\n",
       "      <td>26.0</td>\n",
       "      <td>1.0</td>\n",
       "      <td>1.0</td>\n",
       "      <td>248738</td>\n",
       "      <td>29.0000</td>\n",
       "      <td>NaN</td>\n",
       "      <td>S</td>\n",
       "      <td>13</td>\n",
       "      <td>NaN</td>\n",
       "      <td>Bangkok, Thailand / Roseville, IL</td>\n",
       "    </tr>\n",
       "    <tr>\n",
       "      <th>727</th>\n",
       "      <td>3.0</td>\n",
       "      <td>0.0</td>\n",
       "      <td>Stanley, Mr. Edward Roland</td>\n",
       "      <td>male</td>\n",
       "      <td>21.0</td>\n",
       "      <td>0.0</td>\n",
       "      <td>0.0</td>\n",
       "      <td>A/4 45380</td>\n",
       "      <td>8.0500</td>\n",
       "      <td>NaN</td>\n",
       "      <td>S</td>\n",
       "      <td>NaN</td>\n",
       "      <td>NaN</td>\n",
       "      <td>NaN</td>\n",
       "    </tr>\n",
       "    <tr>\n",
       "      <th>614</th>\n",
       "      <td>3.0</td>\n",
       "      <td>0.0</td>\n",
       "      <td>Kiernan, Mr. John</td>\n",
       "      <td>male</td>\n",
       "      <td>NaN</td>\n",
       "      <td>1.0</td>\n",
       "      <td>0.0</td>\n",
       "      <td>367227</td>\n",
       "      <td>7.7500</td>\n",
       "      <td>NaN</td>\n",
       "      <td>Q</td>\n",
       "      <td>NaN</td>\n",
       "      <td>NaN</td>\n",
       "      <td>NaN</td>\n",
       "    </tr>\n",
       "    <tr>\n",
       "      <th>958</th>\n",
       "      <td>1.0</td>\n",
       "      <td>1.0</td>\n",
       "      <td>Eustis, Miss. Elizabeth Mussey</td>\n",
       "      <td>female</td>\n",
       "      <td>54.0</td>\n",
       "      <td>1.0</td>\n",
       "      <td>0.0</td>\n",
       "      <td>36947</td>\n",
       "      <td>78.2667</td>\n",
       "      <td>D20</td>\n",
       "      <td>C</td>\n",
       "      <td>4</td>\n",
       "      <td>NaN</td>\n",
       "      <td>Brookline, MA</td>\n",
       "    </tr>\n",
       "    <tr>\n",
       "      <th>15</th>\n",
       "      <td>1.0</td>\n",
       "      <td>0.0</td>\n",
       "      <td>Rosenshine, Mr. George (\"Mr George Thorne\")</td>\n",
       "      <td>male</td>\n",
       "      <td>46.0</td>\n",
       "      <td>0.0</td>\n",
       "      <td>0.0</td>\n",
       "      <td>PC 17585</td>\n",
       "      <td>79.2000</td>\n",
       "      <td>NaN</td>\n",
       "      <td>C</td>\n",
       "      <td>NaN</td>\n",
       "      <td>16.0</td>\n",
       "      <td>New York, NY</td>\n",
       "    </tr>\n",
       "    <tr>\n",
       "      <th>613</th>\n",
       "      <td>3.0</td>\n",
       "      <td>0.0</td>\n",
       "      <td>Braund, Mr. Lewis Richard</td>\n",
       "      <td>male</td>\n",
       "      <td>29.0</td>\n",
       "      <td>1.0</td>\n",
       "      <td>0.0</td>\n",
       "      <td>3460</td>\n",
       "      <td>7.0458</td>\n",
       "      <td>NaN</td>\n",
       "      <td>S</td>\n",
       "      <td>NaN</td>\n",
       "      <td>NaN</td>\n",
       "      <td>Bridgerule, Devon</td>\n",
       "    </tr>\n",
       "    <tr>\n",
       "      <th>1028</th>\n",
       "      <td>1.0</td>\n",
       "      <td>1.0</td>\n",
       "      <td>Douglas, Mrs. Walter Donald (Mahala Dutton)</td>\n",
       "      <td>female</td>\n",
       "      <td>48.0</td>\n",
       "      <td>1.0</td>\n",
       "      <td>0.0</td>\n",
       "      <td>PC 17761</td>\n",
       "      <td>106.4250</td>\n",
       "      <td>C86</td>\n",
       "      <td>C</td>\n",
       "      <td>2</td>\n",
       "      <td>NaN</td>\n",
       "      <td>Deephaven, MN / Cedar Rapids, IA</td>\n",
       "    </tr>\n",
       "  </tbody>\n",
       "</table>\n",
       "</div>"
      ]
     },
     "execution_count": 5,
     "metadata": {},
     "output_type": "execute_result"
    }
   ],
   "source": [
    "data_train.sample(10)"
   ]
  },
  {
   "cell_type": "markdown",
   "metadata": {
    "collapsed": false,
    "pycharm": {
     "name": "#%% md\n"
    }
   },
   "source": [
    "## Procesamiento de Datos\n",
    "\n",
    "Imputacion de la variable `age`"
   ]
  },
  {
   "cell_type": "code",
   "execution_count": null,
   "metadata": {
    "collapsed": false,
    "pycharm": {
     "name": "#%%\n"
    }
   },
   "outputs": [],
   "source": [
    "# Nueva columna title de la persona\n",
    "data_train['title'] = data_train['name'].str.extract('([A-Za-z]+)\\.', expand=True)"
   ]
  },
  {
   "cell_type": "code",
   "execution_count": 7,
   "metadata": {
    "pycharm": {
     "name": "#%%\n"
    }
   },
   "outputs": [
    {
     "data": {
      "text/html": [
       "<div>\n",
       "<style scoped>\n",
       "    .dataframe tbody tr th:only-of-type {\n",
       "        vertical-align: middle;\n",
       "    }\n",
       "\n",
       "    .dataframe tbody tr th {\n",
       "        vertical-align: top;\n",
       "    }\n",
       "\n",
       "    .dataframe thead th {\n",
       "        text-align: right;\n",
       "    }\n",
       "</style>\n",
       "<table border=\"1\" class=\"dataframe\">\n",
       "  <thead>\n",
       "    <tr style=\"text-align: right;\">\n",
       "      <th></th>\n",
       "      <th>pclass</th>\n",
       "      <th>survived</th>\n",
       "      <th>name</th>\n",
       "      <th>sex</th>\n",
       "      <th>age</th>\n",
       "      <th>sibsp</th>\n",
       "      <th>parch</th>\n",
       "      <th>ticket</th>\n",
       "      <th>fare</th>\n",
       "      <th>cabin</th>\n",
       "      <th>embarked</th>\n",
       "      <th>boat</th>\n",
       "      <th>body</th>\n",
       "      <th>home.dest</th>\n",
       "      <th>title</th>\n",
       "    </tr>\n",
       "  </thead>\n",
       "  <tbody>\n",
       "    <tr>\n",
       "      <th>0</th>\n",
       "      <td>3.0</td>\n",
       "      <td>1.0</td>\n",
       "      <td>Jermyn, Miss. Annie</td>\n",
       "      <td>female</td>\n",
       "      <td>NaN</td>\n",
       "      <td>0.0</td>\n",
       "      <td>0.0</td>\n",
       "      <td>14313</td>\n",
       "      <td>7.7500</td>\n",
       "      <td>NaN</td>\n",
       "      <td>Q</td>\n",
       "      <td>D</td>\n",
       "      <td>NaN</td>\n",
       "      <td>NaN</td>\n",
       "      <td>Miss</td>\n",
       "    </tr>\n",
       "    <tr>\n",
       "      <th>1</th>\n",
       "      <td>3.0</td>\n",
       "      <td>0.0</td>\n",
       "      <td>Johansson, Mr. Nils</td>\n",
       "      <td>male</td>\n",
       "      <td>29.0</td>\n",
       "      <td>0.0</td>\n",
       "      <td>0.0</td>\n",
       "      <td>347467</td>\n",
       "      <td>7.8542</td>\n",
       "      <td>NaN</td>\n",
       "      <td>S</td>\n",
       "      <td>NaN</td>\n",
       "      <td>NaN</td>\n",
       "      <td>NaN</td>\n",
       "      <td>Mr</td>\n",
       "    </tr>\n",
       "    <tr>\n",
       "      <th>2</th>\n",
       "      <td>1.0</td>\n",
       "      <td>0.0</td>\n",
       "      <td>Penasco y Castellana, Mr. Victor de Satode</td>\n",
       "      <td>male</td>\n",
       "      <td>18.0</td>\n",
       "      <td>1.0</td>\n",
       "      <td>0.0</td>\n",
       "      <td>PC 17758</td>\n",
       "      <td>108.9000</td>\n",
       "      <td>C65</td>\n",
       "      <td>C</td>\n",
       "      <td>NaN</td>\n",
       "      <td>NaN</td>\n",
       "      <td>Madrid, Spain</td>\n",
       "      <td>Mr</td>\n",
       "    </tr>\n",
       "    <tr>\n",
       "      <th>3</th>\n",
       "      <td>3.0</td>\n",
       "      <td>1.0</td>\n",
       "      <td>Lundstrom, Mr. Thure Edvin</td>\n",
       "      <td>male</td>\n",
       "      <td>32.0</td>\n",
       "      <td>0.0</td>\n",
       "      <td>0.0</td>\n",
       "      <td>350403</td>\n",
       "      <td>7.5792</td>\n",
       "      <td>NaN</td>\n",
       "      <td>S</td>\n",
       "      <td>15</td>\n",
       "      <td>NaN</td>\n",
       "      <td>NaN</td>\n",
       "      <td>Mr</td>\n",
       "    </tr>\n",
       "    <tr>\n",
       "      <th>4</th>\n",
       "      <td>3.0</td>\n",
       "      <td>0.0</td>\n",
       "      <td>Petranec, Miss. Matilda</td>\n",
       "      <td>female</td>\n",
       "      <td>28.0</td>\n",
       "      <td>0.0</td>\n",
       "      <td>0.0</td>\n",
       "      <td>349245</td>\n",
       "      <td>7.8958</td>\n",
       "      <td>NaN</td>\n",
       "      <td>S</td>\n",
       "      <td>NaN</td>\n",
       "      <td>NaN</td>\n",
       "      <td>NaN</td>\n",
       "      <td>Miss</td>\n",
       "    </tr>\n",
       "  </tbody>\n",
       "</table>\n",
       "</div>"
      ]
     },
     "execution_count": 7,
     "metadata": {},
     "output_type": "execute_result"
    }
   ],
   "source": [
    "data_train.head()"
   ]
  },
  {
   "cell_type": "code",
   "execution_count": 8,
   "metadata": {
    "pycharm": {
     "name": "#%%\n"
    }
   },
   "outputs": [
    {
     "data": {
      "text/html": [
       "<pre style=\"white-space:pre;overflow-x:auto;line-height:normal;font-family:Menlo,'DejaVu Sans Mono',consolas,'Courier New',monospace\">\n",
       "Mr        <span style=\"color: #008080; text-decoration-color: #008080; font-weight: bold\">611</span>\n",
       "Miss      <span style=\"color: #008080; text-decoration-color: #008080; font-weight: bold\">201</span>\n",
       "Mrs       <span style=\"color: #008080; text-decoration-color: #008080; font-weight: bold\">163</span>\n",
       "Master     <span style=\"color: #008080; text-decoration-color: #008080; font-weight: bold\">47</span>\n",
       "Dr          <span style=\"color: #008080; text-decoration-color: #008080; font-weight: bold\">6</span>\n",
       "Rev         <span style=\"color: #008080; text-decoration-color: #008080; font-weight: bold\">6</span>\n",
       "Col         <span style=\"color: #008080; text-decoration-color: #008080; font-weight: bold\">4</span>\n",
       "Ms          <span style=\"color: #008080; text-decoration-color: #008080; font-weight: bold\">2</span>\n",
       "Major       <span style=\"color: #008080; text-decoration-color: #008080; font-weight: bold\">2</span>\n",
       "Mlle        <span style=\"color: #008080; text-decoration-color: #008080; font-weight: bold\">2</span>\n",
       "Capt        <span style=\"color: #008080; text-decoration-color: #008080; font-weight: bold\">1</span>\n",
       "Lady        <span style=\"color: #008080; text-decoration-color: #008080; font-weight: bold\">1</span>\n",
       "Dona        <span style=\"color: #008080; text-decoration-color: #008080; font-weight: bold\">1</span>\n",
       "Name: title, dtype: int64\n",
       "</pre>\n"
      ],
      "text/plain": [
       "\n",
       "Mr        \u001B[1;36m611\u001B[0m\n",
       "Miss      \u001B[1;36m201\u001B[0m\n",
       "Mrs       \u001B[1;36m163\u001B[0m\n",
       "Master     \u001B[1;36m47\u001B[0m\n",
       "Dr          \u001B[1;36m6\u001B[0m\n",
       "Rev         \u001B[1;36m6\u001B[0m\n",
       "Col         \u001B[1;36m4\u001B[0m\n",
       "Ms          \u001B[1;36m2\u001B[0m\n",
       "Major       \u001B[1;36m2\u001B[0m\n",
       "Mlle        \u001B[1;36m2\u001B[0m\n",
       "Capt        \u001B[1;36m1\u001B[0m\n",
       "Lady        \u001B[1;36m1\u001B[0m\n",
       "Dona        \u001B[1;36m1\u001B[0m\n",
       "Name: title, dtype: int64\n"
      ]
     },
     "metadata": {},
     "output_type": "display_data"
    }
   ],
   "source": [
    "data_train['title'].value_counts()"
   ]
  },
  {
   "cell_type": "code",
   "execution_count": 13,
   "metadata": {
    "pycharm": {
     "name": "#%%\n"
    }
   },
   "outputs": [],
   "source": [
    "# reemplazar title raros por unos comunes\n",
    "mapping = {'Mlle': 'Miss', 'Major': 'Mr', 'Col': 'Mr', 'Sir': 'Mr',\n",
    "           'Don': 'Mr', 'Mme': 'Mrs', 'Jonkheer': 'Mr', 'Lady': 'Mrs',\n",
    "           'Capt': 'Mr', 'Countess': 'Mrs', 'Ms': 'Miss', 'Dona': 'Mrs'}\n",
    "\n",
    "data_train.replace({'title': mapping}, inplace=True)"
   ]
  },
  {
   "cell_type": "code",
   "execution_count": 14,
   "metadata": {
    "pycharm": {
     "name": "#%%\n"
    }
   },
   "outputs": [
    {
     "data": {
      "text/html": [
       "<pre style=\"white-space:pre;overflow-x:auto;line-height:normal;font-family:Menlo,'DejaVu Sans Mono',consolas,'Courier New',monospace\">\n",
       "Mr        <span style=\"color: #008080; text-decoration-color: #008080; font-weight: bold\">618</span>\n",
       "Miss      <span style=\"color: #008080; text-decoration-color: #008080; font-weight: bold\">205</span>\n",
       "Mrs       <span style=\"color: #008080; text-decoration-color: #008080; font-weight: bold\">165</span>\n",
       "Master     <span style=\"color: #008080; text-decoration-color: #008080; font-weight: bold\">47</span>\n",
       "Dr          <span style=\"color: #008080; text-decoration-color: #008080; font-weight: bold\">6</span>\n",
       "Rev         <span style=\"color: #008080; text-decoration-color: #008080; font-weight: bold\">6</span>\n",
       "Name: title, dtype: int64\n",
       "</pre>\n"
      ],
      "text/plain": [
       "\n",
       "Mr        \u001B[1;36m618\u001B[0m\n",
       "Miss      \u001B[1;36m205\u001B[0m\n",
       "Mrs       \u001B[1;36m165\u001B[0m\n",
       "Master     \u001B[1;36m47\u001B[0m\n",
       "Dr          \u001B[1;36m6\u001B[0m\n",
       "Rev         \u001B[1;36m6\u001B[0m\n",
       "Name: title, dtype: int64\n"
      ]
     },
     "metadata": {},
     "output_type": "display_data"
    }
   ],
   "source": [
    "data_train['title'].value_counts()"
   ]
  },
  {
   "cell_type": "markdown",
   "metadata": {
    "pycharm": {
     "name": "#%% md\n"
    }
   },
   "source": [
    "Reemplazar `age` con la media de los grupos de los `titles`"
   ]
  },
  {
   "cell_type": "code",
   "execution_count": null,
   "metadata": {
    "pycharm": {
     "name": "#%%\n"
    }
   },
   "outputs": [],
   "source": [
    "title_ages = dict(data_train.groupby('title')['age'].median())\n",
    "\n",
    "# crear columna con el promedio de las edades por titulo\n",
    "data_train['age_med'] = data_train['title'].apply(lambda x: title_ages[x])\n",
    "\n",
    "# realizar imputacion de las edades faltantes\n",
    "data_train['age'].fillna(data_train['age_med'], inplace=True, )\n",
    "del data_train['age_med']"
   ]
  },
  {
   "cell_type": "code",
   "execution_count": 20,
   "metadata": {
    "pycharm": {
     "name": "#%%\n"
    }
   },
   "outputs": [
    {
     "data": {
      "image/png": "[encoded data removed]"
     },
     "metadata": {},
     "output_type": "display_data"
    }
   ],
   "source": [
    "sns.barplot(x='title', y='age', data=data_train, estimator=np.median, ci=None, palette='Blues_d')"
   ]
  },
  {
   "cell_type": "code",
   "execution_count": 22,
   "metadata": {
    "pycharm": {
     "name": "#%%\n"
    }
   },
   "outputs": [
    {
     "data": {
      "text/html": [
       "<pre style=\"white-space:pre;overflow-x:auto;line-height:normal;font-family:Menlo,'DejaVu Sans Mono',consolas,'Courier New',monospace\"><span style=\"color: #7fbfbf; text-decoration-color: #7fbfbf\">[08/23/22 20:48:44] </span><span style=\"color: #800000; text-decoration-color: #800000\">WARNING </span> <span style=\"color: #800080; text-decoration-color: #800080\">/Users/jzapata/opt/anaconda3/envs/titanic-kedro/lib/python3.9/site-pac</span> <a href=\"file:///Users/jzapata/opt/anaconda3/envs/titanic-kedro/lib/python3.9/warnings.py\" target=\"_blank\"><span style=\"color: #7f7f7f; text-decoration-color: #7f7f7f\">warnings.py</span></a><span style=\"color: #7f7f7f; text-decoration-color: #7f7f7f\">:</span><a href=\"file:///Users/jzapata/opt/anaconda3/envs/titanic-kedro/lib/python3.9/warnings.py#109\" target=\"_blank\"><span style=\"color: #7f7f7f; text-decoration-color: #7f7f7f\">109</span></a>\n",
       "<span style=\"color: #7fbfbf; text-decoration-color: #7fbfbf\">                    </span>         <span style=\"color: #800080; text-decoration-color: #800080\">kages/seaborn/</span><span style=\"color: #ff00ff; text-decoration-color: #ff00ff\">categorical.py</span>:<span style=\"color: #008080; text-decoration-color: #008080; font-weight: bold\">381</span>: DeprecationWarning: distutils        <span style=\"color: #7f7f7f; text-decoration-color: #7f7f7f\">               </span>\n",
       "<span style=\"color: #7fbfbf; text-decoration-color: #7fbfbf\">                    </span>         Version classes are deprecated. Use packaging.version instead.         <span style=\"color: #7f7f7f; text-decoration-color: #7f7f7f\">               </span>\n",
       "<span style=\"color: #7fbfbf; text-decoration-color: #7fbfbf\">                    </span>           if <span style=\"color: #800080; text-decoration-color: #800080; font-weight: bold\">LooseVersion</span><span style=\"font-weight: bold\">(</span>mpl.__version__<span style=\"font-weight: bold\">)</span> &lt; <span style=\"color: #008000; text-decoration-color: #008000\">\"3.0\"</span>:                            <span style=\"color: #7f7f7f; text-decoration-color: #7f7f7f\">               </span>\n",
       "<span style=\"color: #7fbfbf; text-decoration-color: #7fbfbf\">                    </span>                                                                                <span style=\"color: #7f7f7f; text-decoration-color: #7f7f7f\">               </span>\n",
       "</pre>\n"
      ],
      "text/plain": [
       "\u001B[2;36m[08/23/22 20:48:44]\u001B[0m\u001B[2;36m \u001B[0m\u001B[31mWARNING \u001B[0m \u001B[35m/Users/jzapata/opt/anaconda3/envs/titanic-kedro/lib/python3.9/site-pac\u001B[0m \u001B]8;id=430753;file:///Users/jzapata/opt/anaconda3/envs/titanic-kedro/lib/python3.9/warnings.py\u001B\\\u001B[2mwarnings.py\u001B[0m\u001B]8;;\u001B\\\u001B[2m:\u001B[0m\u001B]8;id=850352;file:///Users/jzapata/opt/anaconda3/envs/titanic-kedro/lib/python3.9/warnings.py#109\u001B\\\u001B[2m109\u001B[0m\u001B]8;;\u001B\\\n",
       "\u001B[2;36m                    \u001B[0m         \u001B[35mkages/seaborn/\u001B[0m\u001B[95mcategorical.py\u001B[0m:\u001B[1;36m381\u001B[0m: DeprecationWarning: distutils        \u001B[2m               \u001B[0m\n",
       "\u001B[2;36m                    \u001B[0m         Version classes are deprecated. Use packaging.version instead.         \u001B[2m               \u001B[0m\n",
       "\u001B[2;36m                    \u001B[0m           if \u001B[1;35mLooseVersion\u001B[0m\u001B[1m(\u001B[0mmpl.__version__\u001B[1m)\u001B[0m < \u001B[32m\"3.0\"\u001B[0m:                            \u001B[2m               \u001B[0m\n",
       "\u001B[2;36m                    \u001B[0m                                                                                \u001B[2m               \u001B[0m\n"
      ]
     },
     "metadata": {},
     "output_type": "display_data"
    },
    {
     "data": {
      "text/html": [
       "<pre style=\"white-space:pre;overflow-x:auto;line-height:normal;font-family:Menlo,'DejaVu Sans Mono',consolas,'Courier New',monospace\"><span style=\"color: #7fbfbf; text-decoration-color: #7fbfbf\">                    </span><span style=\"color: #800000; text-decoration-color: #800000\">WARNING </span> <span style=\"color: #800080; text-decoration-color: #800080\">/Users/jzapata/opt/anaconda3/envs/titanic-kedro/lib/python3.9/site-pac</span> <a href=\"file:///Users/jzapata/opt/anaconda3/envs/titanic-kedro/lib/python3.9/warnings.py\" target=\"_blank\"><span style=\"color: #7f7f7f; text-decoration-color: #7f7f7f\">warnings.py</span></a><span style=\"color: #7f7f7f; text-decoration-color: #7f7f7f\">:</span><a href=\"file:///Users/jzapata/opt/anaconda3/envs/titanic-kedro/lib/python3.9/warnings.py#109\" target=\"_blank\"><span style=\"color: #7f7f7f; text-decoration-color: #7f7f7f\">109</span></a>\n",
       "<span style=\"color: #7fbfbf; text-decoration-color: #7fbfbf\">                    </span>         <span style=\"color: #800080; text-decoration-color: #800080\">kages/setuptools/_distutils/</span><span style=\"color: #ff00ff; text-decoration-color: #ff00ff\">version.py</span>:<span style=\"color: #008080; text-decoration-color: #008080; font-weight: bold\">351</span>: DeprecationWarning:        <span style=\"color: #7f7f7f; text-decoration-color: #7f7f7f\">               </span>\n",
       "<span style=\"color: #7fbfbf; text-decoration-color: #7fbfbf\">                    </span>         distutils Version classes are deprecated. Use packaging.version        <span style=\"color: #7f7f7f; text-decoration-color: #7f7f7f\">               </span>\n",
       "<span style=\"color: #7fbfbf; text-decoration-color: #7fbfbf\">                    </span>         instead.                                                               <span style=\"color: #7f7f7f; text-decoration-color: #7f7f7f\">               </span>\n",
       "<span style=\"color: #7fbfbf; text-decoration-color: #7fbfbf\">                    </span>           other = <span style=\"color: #800080; text-decoration-color: #800080; font-weight: bold\">LooseVersion</span><span style=\"font-weight: bold\">(</span>other<span style=\"font-weight: bold\">)</span>                                          <span style=\"color: #7f7f7f; text-decoration-color: #7f7f7f\">               </span>\n",
       "<span style=\"color: #7fbfbf; text-decoration-color: #7fbfbf\">                    </span>                                                                                <span style=\"color: #7f7f7f; text-decoration-color: #7f7f7f\">               </span>\n",
       "</pre>\n"
      ],
      "text/plain": [
       "\u001B[2;36m                   \u001B[0m\u001B[2;36m \u001B[0m\u001B[31mWARNING \u001B[0m \u001B[35m/Users/jzapata/opt/anaconda3/envs/titanic-kedro/lib/python3.9/site-pac\u001B[0m \u001B]8;id=654914;file:///Users/jzapata/opt/anaconda3/envs/titanic-kedro/lib/python3.9/warnings.py\u001B\\\u001B[2mwarnings.py\u001B[0m\u001B]8;;\u001B\\\u001B[2m:\u001B[0m\u001B]8;id=609876;file:///Users/jzapata/opt/anaconda3/envs/titanic-kedro/lib/python3.9/warnings.py#109\u001B\\\u001B[2m109\u001B[0m\u001B]8;;\u001B\\\n",
       "\u001B[2;36m                    \u001B[0m         \u001B[35mkages/setuptools/_distutils/\u001B[0m\u001B[95mversion.py\u001B[0m:\u001B[1;36m351\u001B[0m: DeprecationWarning:        \u001B[2m               \u001B[0m\n",
       "\u001B[2;36m                    \u001B[0m         distutils Version classes are deprecated. Use packaging.version        \u001B[2m               \u001B[0m\n",
       "\u001B[2;36m                    \u001B[0m         instead.                                                               \u001B[2m               \u001B[0m\n",
       "\u001B[2;36m                    \u001B[0m           other = \u001B[1;35mLooseVersion\u001B[0m\u001B[1m(\u001B[0mother\u001B[1m)\u001B[0m                                          \u001B[2m               \u001B[0m\n",
       "\u001B[2;36m                    \u001B[0m                                                                                \u001B[2m               \u001B[0m\n"
      ]
     },
     "metadata": {},
     "output_type": "display_data"
    },
    {
     "data": {
      "image/png": "[encoded data removed]"
     },
     "metadata": {},
     "output_type": "display_data"
    }
   ],
   "source": [
    "sns.countplot(x='title', data=data_train, palette='hls', hue='survived')   "
   ]
  },
  {
   "cell_type": "markdown",
   "metadata": {
    "collapsed": false,
    "pycharm": {
     "name": "#%% md\n"
    }
   },
   "source": [
    "## Resultados y Conclusiones\n",
    "\n",
    "Hacer una descripcion de los resultados obtenidos y las conclusiones en los notebooks de analisis"
   ]
  },
  {
   "cell_type": "code",
   "execution_count": null,
   "metadata": {
    "collapsed": false,
    "pycharm": {
     "name": "#%%\n"
    }
   },
   "outputs": [],
   "source": []
  },
  {
   "cell_type": "markdown",
   "metadata": {
    "collapsed": false,
    "pycharm": {
     "name": "#%% md\n"
    }
   },
   "source": [
    "## Propuestas e Ideas\n",
    "\n",
    "- Crear un transformador de Scikit-learn como group imputer\n",
    "  https://datascience.stackexchange.com/questions/71856/custom-functions-and-pipelines\n",
    "\n",
    "o este codigo\n",
    "```python\n",
    "class GroupByImputer(BaseEstimator, TransformerMixin):\n",
    "    \"\"\"\n",
    "    GroupByImputer: Imputation transformer for completing missing values based\n",
    "     on the most common value. Can be used with strings or numeric data.\n",
    "     If there is more than one value, returned the first one found.\n",
    "    Parameters\n",
    "    ----------\n",
    "    variable: str, default = None\n",
    "        variable with the missing values.\n",
    "    group: str, default = None\n",
    "        group key value used to calculate most common value.\n",
    "    Attributes\n",
    "    ----------\n",
    "    feature_names_in_\n",
    "        Features used during fit\n",
    "    Methods\n",
    "    -------\n",
    "    fit\n",
    "    transform:\n",
    "    \"\"\"\n",
    "\n",
    "    def __init__(self, variable, group=None):\n",
    "        self.variable = variable\n",
    "        self.group = group\n",
    "        self.mapper = None\n",
    "        self.feature_names_in_ = None\n",
    "\n",
    "    def fit(self, x, _=None):\n",
    "        logger.info(f'Fitting GroupByImputer for {self.variable}')\n",
    "        if self.group:\n",
    "            self.mapper = x.dropna(subset=[self.variable]) \\\n",
    "                .groupby(self.group)[self.variable].apply(\n",
    "                lambda a: a.value_counts().index[0]\n",
    "            ).to_dict()\n",
    "        else:\n",
    "            raise ValueError('Group should be specified')\n",
    "        return self\n",
    "\n",
    "    def transform(self, x):\n",
    "        x_copy = x.copy()\n",
    "\n",
    "        if self.group:\n",
    "            x_copy[self.variable] = x_copy[self.variable].fillna(\n",
    "                x_copy[self.group].map(self.mapper)\n",
    "            )\n",
    "\n",
    "        return x_copy\n",
    "```          "
   ]
  }
 ],
 "metadata": {
  "kernelspec": {
   "display_name": "Kedro (titanic_kedro)",
   "language": "python",
   "name": "kedro_titanic_kedro"
  },
  "language_info": {
   "codemirror_mode": {
    "name": "ipython",
    "version": 3
   },
   "file_extension": ".py",
   "mimetype": "text/x-python",
   "name": "python",
   "nbconvert_exporter": "python",
   "pygments_lexer": "ipython3",
   "version": "3.9.12"
  },
  "vscode": {
   "interpreter": {
    "hash": "8b24982fa87fe2259983469fa9ea52cd5ff47894eeb2ba000f27792609587ff5"
   }
  }
 },
 "nbformat": 4,
 "nbformat_minor": 0
}