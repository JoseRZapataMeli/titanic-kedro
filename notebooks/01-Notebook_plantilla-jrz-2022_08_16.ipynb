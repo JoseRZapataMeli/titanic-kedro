{
 "cells": [
  {
   "cell_type": "markdown",
   "metadata": {
    "collapsed": true,
    "pycharm": {
     "name": "#%% md\n"
    }
   },
   "source": [
    "## Titulo (Ejemplo: Crear Plantilla de notebook)\n",
    "\n",
    "### Historia\n",
    "\n",
    "Ejemplo\n",
    "[RODI-73](https://mercadolibre.atlassian.net/browse/RODI-73)\n",
    "\n",
    "### Por:\n",
    "Nombre Apellido\n",
    "\n",
    "### Fecha:\n",
    "YYYY-MM-DD\n",
    "\n",
    "### Descripción:\n",
    "\n",
    "Descripcion de las actividades a realizar en el notebook\n"
   ]
  },
  {
   "cell_type": "markdown",
   "source": [
    "Nombrar el archivo\n",
    "\n",
    "[##.#]-[2-4 palabras de descripción]-[DS-iniciales]-[fecha yyyy_mm_dd].ipynb\n",
    "el ## son numeros consecutivos\n",
    "\n",
    "Ejemplos:\n",
    "01-Analisis_descriptivo-mg-2022-02-02.ipynb\n",
    "02.1-modelamiento_rf-mg-2022-02-08.ipynb\n",
    "02.2-modelamiento_dt-mg-2022-02-09.ipynb\n",
    "\n",
    "Esta celda se puede borrar"
   ],
   "metadata": {
    "collapsed": false,
    "pycharm": {
     "name": "#%% md\n"
    }
   }
  },
  {
   "cell_type": "code",
   "execution_count": null,
   "outputs": [],
   "source": [],
   "metadata": {
    "collapsed": false,
    "pycharm": {
     "name": "#%%\n"
    }
   }
  },
  {
   "cell_type": "markdown",
   "source": [
    "## Importar librerias"
   ],
   "metadata": {
    "collapsed": false,
    "pycharm": {
     "name": "#%% md\n"
    }
   }
  },
  {
   "cell_type": "code",
   "execution_count": null,
   "outputs": [],
   "source": [],
   "metadata": {
    "collapsed": false,
    "pycharm": {
     "name": "#%%\n"
    }
   }
  },
  {
   "cell_type": "markdown",
   "source": [
    "## Cargar Datos"
   ],
   "metadata": {
    "collapsed": false,
    "pycharm": {
     "name": "#%% md\n"
    }
   }
  },
  {
   "cell_type": "code",
   "execution_count": null,
   "outputs": [],
   "source": [],
   "metadata": {
    "collapsed": false,
    "pycharm": {
     "name": "#%%\n"
    }
   }
  },
  {
   "cell_type": "markdown",
   "source": [
    "## Procesamiento de Datos"
   ],
   "metadata": {
    "collapsed": false,
    "pycharm": {
     "name": "#%% md\n"
    }
   }
  },
  {
   "cell_type": "code",
   "execution_count": null,
   "outputs": [],
   "source": [],
   "metadata": {
    "collapsed": false,
    "pycharm": {
     "name": "#%%\n"
    }
   }
  },
  {
   "cell_type": "markdown",
   "source": [
    "## Resultados y Conclusiones\n",
    "\n",
    "Hacer una descripcion de los resultados obtenidos y las conclusiones en los notebooks de analisis"
   ],
   "metadata": {
    "collapsed": false,
    "pycharm": {
     "name": "#%% md\n"
    }
   }
  },
  {
   "cell_type": "code",
   "execution_count": null,
   "outputs": [],
   "source": [],
   "metadata": {
    "collapsed": false,
    "pycharm": {
     "name": "#%%\n"
    }
   }
  },
  {
   "cell_type": "markdown",
   "source": [
    "## Propuestas e Ideas"
   ],
   "metadata": {
    "collapsed": false,
    "pycharm": {
     "name": "#%% md\n"
    }
   }
  }
 ],
 "metadata": {
  "kernelspec": {
   "display_name": "Python 3",
   "language": "python",
   "name": "python3"
  },
  "language_info": {
   "codemirror_mode": {
    "name": "ipython",
    "version": 2
   },
   "file_extension": ".py",
   "mimetype": "text/x-python",
   "name": "python",
   "nbconvert_exporter": "python",
   "pygments_lexer": "ipython2",
   "version": "2.7.6"
  }
 },
 "nbformat": 4,
 "nbformat_minor": 0
}